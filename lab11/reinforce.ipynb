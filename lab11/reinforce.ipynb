{
 "cells": [
  {
   "cell_type": "code",
   "execution_count": 1,
   "metadata": {},
   "outputs": [],
   "source": [
    "# Install necessary libraries if you haven't already\n",
    "# !pip install transformers datasets torch accelerate matplotlib\n",
    "\n",
    "import torch\n",
    "import torch.nn.functional as F\n",
    "from torch.optim import AdamW\n",
    "from datasets import Dataset\n",
    "from transformers import AutoTokenizer, AutoModelForCausalLM\n",
    "import numpy as np\n",
    "import warnings\n",
    "from tqdm.auto import tqdm # For progress bar\n",
    "import matplotlib.pyplot as plt # Import for optional plotting later\n",
    "import math\n",
    "import re\n",
    "import datetime"
   ]
  },
  {
   "cell_type": "code",
   "execution_count": 15,
   "metadata": {},
   "outputs": [],
   "source": [
    "from pytz import timezone\n",
    "tz = timezone('EST')"
   ]
  },
  {
   "cell_type": "code",
   "execution_count": 22,
   "metadata": {},
   "outputs": [],
   "source": [
    "# Suppress UserWarnings (often related to dependency versions)\n",
    "warnings.filterwarnings(\"ignore\", category=UserWarning)\n",
    "\n",
    "# --- Configuration ---\n",
    "config = {\n",
    "    \"model_name\": \"distilgpt2\",  # Using a smaller model for faster demonstration\n",
    "    \"learning_rate\": 5e-6,     # Learning rate for AdamW optimizer (might need tuning)\n",
    "    \"batch_size\": 8,           # Batch size\n",
    "    \"seed\": 42,\n",
    "    \"target_length\": 20,       # The desired output length\n",
    "    \"max_gen_length\": 25,      # Max tokens to generate (allows space for EOS)\n",
    "    \"steps\": 1000,              # Total number of training steps (increase for real training)\n",
    "    \"device\": \"cuda\" if torch.cuda.is_available() else \"cpu\", # Use GPU if available\n",
    "    \"reward_type\": \"dense_closeness\"\n",
    "}"
   ]
  },
  {
   "cell_type": "code",
   "execution_count": 17,
   "metadata": {},
   "outputs": [
    {
     "name": "stdout",
     "output_type": "stream",
     "text": [
      "Loading model on device: cuda...\n",
      "Model loaded on device: cuda:0\n"
     ]
    }
   ],
   "source": [
    "# Set seed for reproducibility\n",
    "torch.manual_seed(config[\"seed\"])\n",
    "np.random.seed(config[\"seed\"])\n",
    "if torch.cuda.is_available():\n",
    "    torch.cuda.manual_seed_all(config[\"seed\"])\n",
    "\n",
    "# --- Tokenizer ---\n",
    "tokenizer = AutoTokenizer.from_pretrained(config[\"model_name\"])\n",
    "# Set pad token if it's not already set (GPT2 often uses EOS as PAD)\n",
    "if tokenizer.pad_token is None:\n",
    "    tokenizer.pad_token = tokenizer.eos_token\n",
    "\n",
    "# --- Model ---\n",
    "print(f\"Loading model on device: {config['device']}...\")\n",
    "# Load the base Causal LM model (no value head needed for REINFORCE)\n",
    "model = AutoModelForCausalLM.from_pretrained(\n",
    "    config[\"model_name\"],\n",
    ")\n",
    "# Explicitly move model to the target device\n",
    "model.to(config[\"device\"])\n",
    "\n",
    "print(f\"Model loaded on device: {next(model.parameters()).device}\") # Check actual device\n",
    "\n",
    "# --- Optimizer ---\n",
    "optimizer = AdamW(model.parameters(), lr=config[\"learning_rate\"])\n",
    "\n",
    "# --- Dataset ---\n",
    "# Create a simple dataset of prompts\n",
    "prompts = [\"<|startoftext|> What is the time in hh:mm?\"]\n",
    "# Repeat prompts to easily form batches\n",
    "num_repeats = (config[\"batch_size\"] // len(prompts)) + 1\n",
    "dataset_dict = {\"query\": prompts * num_repeats}\n",
    "dataset = Dataset.from_dict(dataset_dict).shuffle(seed=config[\"seed\"]) # Shuffle the dataset\n",
    "\n",
    "# --- Generation Settings ---\n",
    "generation_kwargs = {\n",
    "    \"min_length\": -1, # don't ignore the EOS token\n",
    "    \"top_k\": 0.0,     # no top-k sampling\n",
    "    \"top_p\": 1.0,     # no nucleus sampling\n",
    "    \"do_sample\": True,\n",
    "    \"pad_token_id\": tokenizer.pad_token_id,\n",
    "    \"eos_token_id\": tokenizer.eos_token_id,\n",
    "    \"max_new_tokens\": config[\"max_gen_length\"], # Max *new* tokens to generate\n",
    "    \"output_scores\": True, # Needed to get logits for log prob calculation\n",
    "    \"return_dict_in_generate\": True, # Makes accessing outputs easier\n",
    "}\n",
    "\n",
    "# --- Logging Lists ---\n",
    "# Initialize lists to store training data\n",
    "all_rewards = []         # Stores reward for each individual sequence\n",
    "all_lengths = []         # Stores generated length for each individual sequence\n",
    "step_losses = []         # Stores loss value for each training step\n",
    "step_mean_rewards = []   # Stores mean reward per batch for each training step"
   ]
  },
  {
   "cell_type": "code",
   "execution_count": 18,
   "metadata": {},
   "outputs": [],
   "source": [
    "def calculate_time_reward(generated_ids, tokenizer, sharpness=0.05):\n",
    "    \"\"\"\n",
    "    Calculates a reward based on the proximity of a time extracted\n",
    "    from the generated text to the current system time (HH:MM).\n",
    "\n",
    "    Args:\n",
    "        generated_ids (torch.Tensor): Tensor containing the token IDs of the\n",
    "                                      *generated* part of a sequence (1D).\n",
    "        tokenizer: The tokenizer used for decoding.\n",
    "        sharpness (float): Parameter controlling how quickly the reward decays\n",
    "                           as the difference from the current time increases.\n",
    "                           Lower values mean slower decay.\n",
    "\n",
    "    Returns:\n",
    "        tuple[float, str | None]: A tuple containing:\n",
    "            - reward (float): The calculated reward value (0.0 to 1.0).\n",
    "            - extracted_time_str (str | None): The time string extracted from\n",
    "                                              the text (e.g., \"14:30\"), or None\n",
    "                                              if no valid time was found.\n",
    "    \"\"\"\n",
    "    # --- 1. Get Current Time ---\n",
    "    # Get the current time as a time object\n",
    "    # Using the provided context time for consistency in this example:\n",
    "    # current_time_obj = datetime.datetime.strptime(\"20:16\", \"%H:%M\").time() # 8:16 PM EDT\n",
    "    # In a real application, use:\n",
    "    current_time_obj = datetime.datetime.now(tz).time()\n",
    "\n",
    "    # --- 2. Decode Generated Text ---\n",
    "    # Decode the token IDs into a string, removing special tokens (like EOS, PAD)\n",
    "    generated_text = tokenizer.decode(generated_ids, skip_special_tokens=True)\n",
    "\n",
    "    # --- 3. Extract Time from Text ---\n",
    "    # Regex to find HH:MM or H:MM patterns (potentially with seconds)\n",
    "    # \\b ensures we match whole words/times, not parts of other numbers\n",
    "    # (\\d{1,2}:\\d{2}) captures the hour and minute part\n",
    "    # (?::\\d{2})? optionally matches seconds\n",
    "    time_pattern = re.compile(r'\\b(\\d{1,2}:\\d{2}(?::\\d{2})?)\\b')\n",
    "    match = time_pattern.search(generated_text)\n",
    "\n",
    "    extracted_time_str = None\n",
    "    parsed_time_obj = None\n",
    "\n",
    "    if match:\n",
    "        extracted_time_str = match.group(1) # Get the captured time string\n",
    "        # Try parsing the extracted time string\n",
    "        try:\n",
    "            # First try with seconds\n",
    "            parsed_time_obj = datetime.datetime.strptime(extracted_time_str, '%H:%M:%S').time()\n",
    "        except ValueError:\n",
    "            try:\n",
    "                # If seconds fail, try without seconds\n",
    "                parsed_time_obj = datetime.datetime.strptime(extracted_time_str, '%H:%M').time()\n",
    "            except ValueError:\n",
    "                # If parsing fails completely, treat as no time found\n",
    "                parsed_time_obj = None\n",
    "                extracted_time_str = None # Reset as it wasn't a valid time format\n",
    "\n",
    "    # --- 4. Calculate Reward ---\n",
    "    if parsed_time_obj:\n",
    "        # Convert both times to minutes past midnight for easier comparison\n",
    "        current_minutes = current_time_obj.hour * 60 + current_time_obj.minute + current_time_obj.second / 60.0\n",
    "        parsed_minutes = parsed_time_obj.hour * 60 + parsed_time_obj.minute + parsed_time_obj.second / 60.0\n",
    "\n",
    "        # Calculate the absolute difference in minutes\n",
    "        # Handle wrap-around midnight (e.g., difference between 23:50 and 00:10)\n",
    "        diff_minutes = abs(current_minutes - parsed_minutes)\n",
    "        # The maximum difference occurs at 12 hours (720 minutes)\n",
    "        # If difference is > 12 hours, the other direction is shorter\n",
    "        if diff_minutes > 720:\n",
    "            diff_minutes = 1440 - diff_minutes # 1440 minutes in a day\n",
    "\n",
    "        # Calculate reward using exponential decay\n",
    "        # reward = exp(-sharpness * difference_in_minutes)\n",
    "        # Max reward (1.0) is when difference is 0.\n",
    "        reward = math.exp(-sharpness * diff_minutes)\n",
    "\n",
    "    else:\n",
    "        # No valid time found in the generated text\n",
    "        reward = 0.0\n",
    "\n",
    "    return reward, extracted_time_str"
   ]
  },
  {
   "cell_type": "code",
   "execution_count": 23,
   "metadata": {},
   "outputs": [
    {
     "name": "stdout",
     "output_type": "stream",
     "text": [
      "\n",
      "--- Starting REINFORCE Training (Time Reward Focused) ---\n"
     ]
    },
    {
     "name": "stderr",
     "output_type": "stream",
     "text": [
      "Training Steps:   1%|          | 11/1000 [00:02<03:00,  5.47it/s, Loss=0.0000, Reward=0.0000]"
     ]
    },
    {
     "name": "stdout",
     "output_type": "stream",
     "text": [
      "\n",
      "Steps 1-10: Avg Loss: 0.5286, Avg Time Reward: 0.0040\n"
     ]
    },
    {
     "name": "stderr",
     "output_type": "stream",
     "text": [
      "Training Steps:   2%|▏         | 21/1000 [00:03<03:00,  5.42it/s, Loss=0.0003, Reward=0.0000]"
     ]
    },
    {
     "name": "stdout",
     "output_type": "stream",
     "text": [
      "\n",
      "Steps 11-20: Avg Loss: 2.1309, Avg Time Reward: 0.0191\n"
     ]
    },
    {
     "name": "stderr",
     "output_type": "stream",
     "text": [
      "Training Steps:   3%|▎         | 31/1000 [00:05<02:58,  5.44it/s, Loss=2.5470, Reward=0.0217]"
     ]
    },
    {
     "name": "stdout",
     "output_type": "stream",
     "text": [
      "\n",
      "Steps 21-30: Avg Loss: 0.9068, Avg Time Reward: 0.0113\n"
     ]
    },
    {
     "name": "stderr",
     "output_type": "stream",
     "text": [
      "Training Steps:   4%|▍         | 41/1000 [00:07<02:54,  5.48it/s, Loss=0.1722, Reward=0.0014] "
     ]
    },
    {
     "name": "stdout",
     "output_type": "stream",
     "text": [
      "\n",
      "Steps 31-40: Avg Loss: 3.9808, Avg Time Reward: 0.0320\n"
     ]
    },
    {
     "name": "stderr",
     "output_type": "stream",
     "text": [
      "Training Steps:   5%|▌         | 51/1000 [00:09<02:52,  5.52it/s, Loss=0.3253, Reward=0.0030]"
     ]
    },
    {
     "name": "stdout",
     "output_type": "stream",
     "text": [
      "\n",
      "Steps 41-50: Avg Loss: 2.8124, Avg Time Reward: 0.0224\n"
     ]
    },
    {
     "name": "stderr",
     "output_type": "stream",
     "text": [
      "Training Steps:   6%|▌         | 61/1000 [00:11<02:51,  5.48it/s, Loss=0.0093, Reward=0.0001] "
     ]
    },
    {
     "name": "stdout",
     "output_type": "stream",
     "text": [
      "\n",
      "Steps 51-60: Avg Loss: 3.9766, Avg Time Reward: 0.0301\n"
     ]
    },
    {
     "name": "stderr",
     "output_type": "stream",
     "text": [
      "Training Steps:   7%|▋         | 71/1000 [00:12<02:50,  5.46it/s, Loss=13.0238, Reward=0.1047]"
     ]
    },
    {
     "name": "stdout",
     "output_type": "stream",
     "text": [
      "\n",
      "Steps 61-70: Avg Loss: 6.6094, Avg Time Reward: 0.0497\n"
     ]
    },
    {
     "name": "stderr",
     "output_type": "stream",
     "text": [
      "Training Steps:   8%|▊         | 81/1000 [00:14<02:48,  5.46it/s, Loss=0.0005, Reward=0.0000] "
     ]
    },
    {
     "name": "stdout",
     "output_type": "stream",
     "text": [
      "\n",
      "Steps 71-80: Avg Loss: 7.0003, Avg Time Reward: 0.0563\n"
     ]
    },
    {
     "name": "stderr",
     "output_type": "stream",
     "text": [
      "Training Steps:   9%|▉         | 91/1000 [00:16<02:47,  5.42it/s, Loss=1.5183, Reward=0.0118] "
     ]
    },
    {
     "name": "stdout",
     "output_type": "stream",
     "text": [
      "\n",
      "Steps 81-90: Avg Loss: 7.9093, Avg Time Reward: 0.0698\n"
     ]
    },
    {
     "name": "stderr",
     "output_type": "stream",
     "text": [
      "Training Steps:  10%|█         | 101/1000 [00:18<02:46,  5.40it/s, Loss=24.1140, Reward=0.2138]"
     ]
    },
    {
     "name": "stdout",
     "output_type": "stream",
     "text": [
      "\n",
      "Steps 91-100: Avg Loss: 10.5811, Avg Time Reward: 0.0868\n"
     ]
    },
    {
     "name": "stderr",
     "output_type": "stream",
     "text": [
      "Training Steps:  11%|█         | 111/1000 [00:20<02:42,  5.48it/s, Loss=2.6195, Reward=0.0246] "
     ]
    },
    {
     "name": "stdout",
     "output_type": "stream",
     "text": [
      "\n",
      "Steps 101-110: Avg Loss: 9.8202, Avg Time Reward: 0.0898\n"
     ]
    },
    {
     "name": "stderr",
     "output_type": "stream",
     "text": [
      "Training Steps:  12%|█▏        | 121/1000 [00:22<02:39,  5.50it/s, Loss=14.8500, Reward=0.1617]"
     ]
    },
    {
     "name": "stdout",
     "output_type": "stream",
     "text": [
      "\n",
      "Steps 111-120: Avg Loss: 5.8520, Avg Time Reward: 0.0559\n"
     ]
    },
    {
     "name": "stderr",
     "output_type": "stream",
     "text": [
      "Training Steps:  13%|█▎        | 131/1000 [00:23<02:38,  5.49it/s, Loss=5.5853, Reward=0.0715] "
     ]
    },
    {
     "name": "stdout",
     "output_type": "stream",
     "text": [
      "\n",
      "Steps 121-130: Avg Loss: 9.7494, Avg Time Reward: 0.1024\n"
     ]
    },
    {
     "name": "stderr",
     "output_type": "stream",
     "text": [
      "Training Steps:  14%|█▍        | 141/1000 [00:25<02:37,  5.46it/s, Loss=6.4405, Reward=0.0758] "
     ]
    },
    {
     "name": "stdout",
     "output_type": "stream",
     "text": [
      "\n",
      "Steps 131-140: Avg Loss: 7.2210, Avg Time Reward: 0.0808\n"
     ]
    },
    {
     "name": "stderr",
     "output_type": "stream",
     "text": [
      "Training Steps:  15%|█▌        | 151/1000 [00:27<02:34,  5.50it/s, Loss=10.9480, Reward=0.1392]"
     ]
    },
    {
     "name": "stdout",
     "output_type": "stream",
     "text": [
      "\n",
      "Steps 141-150: Avg Loss: 8.9603, Avg Time Reward: 0.1011\n"
     ]
    },
    {
     "name": "stderr",
     "output_type": "stream",
     "text": [
      "Training Steps:  16%|█▌        | 161/1000 [00:29<02:35,  5.40it/s, Loss=15.2077, Reward=0.1648]"
     ]
    },
    {
     "name": "stdout",
     "output_type": "stream",
     "text": [
      "\n",
      "Steps 151-160: Avg Loss: 8.1405, Avg Time Reward: 0.0960\n"
     ]
    },
    {
     "name": "stderr",
     "output_type": "stream",
     "text": [
      "Training Steps:  17%|█▋        | 171/1000 [00:31<02:30,  5.51it/s, Loss=23.5118, Reward=0.2441]"
     ]
    },
    {
     "name": "stdout",
     "output_type": "stream",
     "text": [
      "\n",
      "Steps 161-170: Avg Loss: 11.3685, Avg Time Reward: 0.1261\n"
     ]
    },
    {
     "name": "stderr",
     "output_type": "stream",
     "text": [
      "Training Steps:  18%|█▊        | 181/1000 [00:33<02:27,  5.54it/s, Loss=4.4071, Reward=0.0549] "
     ]
    },
    {
     "name": "stdout",
     "output_type": "stream",
     "text": [
      "\n",
      "Steps 171-180: Avg Loss: 16.5448, Avg Time Reward: 0.1734\n"
     ]
    },
    {
     "name": "stderr",
     "output_type": "stream",
     "text": [
      "Training Steps:  19%|█▉        | 191/1000 [00:34<02:30,  5.36it/s, Loss=11.2396, Reward=0.1059]"
     ]
    },
    {
     "name": "stdout",
     "output_type": "stream",
     "text": [
      "\n",
      "Steps 181-190: Avg Loss: 17.6332, Avg Time Reward: 0.1900\n"
     ]
    },
    {
     "name": "stderr",
     "output_type": "stream",
     "text": [
      "Training Steps:  20%|██        | 201/1000 [00:36<02:27,  5.42it/s, Loss=16.2154, Reward=0.1888]"
     ]
    },
    {
     "name": "stdout",
     "output_type": "stream",
     "text": [
      "\n",
      "Steps 191-200: Avg Loss: 17.7615, Avg Time Reward: 0.1890\n"
     ]
    },
    {
     "name": "stderr",
     "output_type": "stream",
     "text": [
      "Training Steps:  21%|██        | 211/1000 [00:38<02:25,  5.43it/s, Loss=31.2689, Reward=0.3265]"
     ]
    },
    {
     "name": "stdout",
     "output_type": "stream",
     "text": [
      "\n",
      "Steps 201-210: Avg Loss: 13.7792, Avg Time Reward: 0.1561\n"
     ]
    },
    {
     "name": "stderr",
     "output_type": "stream",
     "text": [
      "Training Steps:  22%|██▏       | 221/1000 [00:40<02:21,  5.50it/s, Loss=7.4012, Reward=0.0848] "
     ]
    },
    {
     "name": "stdout",
     "output_type": "stream",
     "text": [
      "\n",
      "Steps 211-220: Avg Loss: 26.1406, Avg Time Reward: 0.2921\n"
     ]
    },
    {
     "name": "stderr",
     "output_type": "stream",
     "text": [
      "Training Steps:  23%|██▎       | 231/1000 [00:42<02:21,  5.43it/s, Loss=36.6730, Reward=0.4149]"
     ]
    },
    {
     "name": "stdout",
     "output_type": "stream",
     "text": [
      "\n",
      "Steps 221-230: Avg Loss: 21.1399, Avg Time Reward: 0.2323\n"
     ]
    },
    {
     "name": "stderr",
     "output_type": "stream",
     "text": [
      "Training Steps:  24%|██▍       | 241/1000 [00:44<02:20,  5.39it/s, Loss=21.6060, Reward=0.2621]"
     ]
    },
    {
     "name": "stdout",
     "output_type": "stream",
     "text": [
      "\n",
      "Steps 231-240: Avg Loss: 23.5287, Avg Time Reward: 0.2654\n"
     ]
    },
    {
     "name": "stderr",
     "output_type": "stream",
     "text": [
      "Training Steps:  25%|██▌       | 251/1000 [00:45<02:16,  5.50it/s, Loss=30.2376, Reward=0.3547]"
     ]
    },
    {
     "name": "stdout",
     "output_type": "stream",
     "text": [
      "\n",
      "Steps 241-250: Avg Loss: 22.1288, Avg Time Reward: 0.2518\n"
     ]
    },
    {
     "name": "stderr",
     "output_type": "stream",
     "text": [
      "Training Steps:  26%|██▌       | 261/1000 [00:47<02:15,  5.46it/s, Loss=36.4798, Reward=0.4294]"
     ]
    },
    {
     "name": "stdout",
     "output_type": "stream",
     "text": [
      "\n",
      "Steps 251-260: Avg Loss: 21.4473, Avg Time Reward: 0.2565\n"
     ]
    },
    {
     "name": "stderr",
     "output_type": "stream",
     "text": [
      "Training Steps:  27%|██▋       | 271/1000 [00:49<02:15,  5.38it/s, Loss=27.9369, Reward=0.3009]"
     ]
    },
    {
     "name": "stdout",
     "output_type": "stream",
     "text": [
      "\n",
      "Steps 261-270: Avg Loss: 34.9517, Avg Time Reward: 0.4002\n"
     ]
    },
    {
     "name": "stderr",
     "output_type": "stream",
     "text": [
      "Training Steps:  28%|██▊       | 281/1000 [00:51<02:11,  5.48it/s, Loss=43.7516, Reward=0.6098]"
     ]
    },
    {
     "name": "stdout",
     "output_type": "stream",
     "text": [
      "\n",
      "Steps 271-280: Avg Loss: 21.5258, Avg Time Reward: 0.2452\n"
     ]
    },
    {
     "name": "stderr",
     "output_type": "stream",
     "text": [
      "Training Steps:  29%|██▉       | 291/1000 [00:53<02:10,  5.43it/s, Loss=53.5673, Reward=0.5633]"
     ]
    },
    {
     "name": "stdout",
     "output_type": "stream",
     "text": [
      "\n",
      "Steps 281-290: Avg Loss: 33.9660, Avg Time Reward: 0.3959\n"
     ]
    },
    {
     "name": "stderr",
     "output_type": "stream",
     "text": [
      "Training Steps:  30%|███       | 301/1000 [00:55<02:08,  5.42it/s, Loss=21.3808, Reward=0.2117]"
     ]
    },
    {
     "name": "stdout",
     "output_type": "stream",
     "text": [
      "\n",
      "Steps 291-300: Avg Loss: 37.2267, Avg Time Reward: 0.4082\n"
     ]
    },
    {
     "name": "stderr",
     "output_type": "stream",
     "text": [
      "Training Steps:  31%|███       | 311/1000 [00:56<02:08,  5.38it/s, Loss=22.3692, Reward=0.2525]"
     ]
    },
    {
     "name": "stdout",
     "output_type": "stream",
     "text": [
      "\n",
      "Steps 301-310: Avg Loss: 28.3011, Avg Time Reward: 0.2901\n"
     ]
    },
    {
     "name": "stderr",
     "output_type": "stream",
     "text": [
      "Training Steps:  32%|███▏      | 321/1000 [00:58<02:03,  5.51it/s, Loss=46.6380, Reward=0.4917]"
     ]
    },
    {
     "name": "stdout",
     "output_type": "stream",
     "text": [
      "\n",
      "Steps 311-320: Avg Loss: 34.0373, Avg Time Reward: 0.3726\n"
     ]
    },
    {
     "name": "stderr",
     "output_type": "stream",
     "text": [
      "Training Steps:  33%|███▎      | 331/1000 [01:00<02:05,  5.34it/s, Loss=28.7094, Reward=0.2998]"
     ]
    },
    {
     "name": "stdout",
     "output_type": "stream",
     "text": [
      "\n",
      "Steps 321-330: Avg Loss: 42.1730, Avg Time Reward: 0.4445\n"
     ]
    },
    {
     "name": "stderr",
     "output_type": "stream",
     "text": [
      "Training Steps:  34%|███▍      | 341/1000 [01:02<02:01,  5.42it/s, Loss=35.4789, Reward=0.3622]"
     ]
    },
    {
     "name": "stdout",
     "output_type": "stream",
     "text": [
      "\n",
      "Steps 331-340: Avg Loss: 35.4794, Avg Time Reward: 0.3722\n"
     ]
    },
    {
     "name": "stderr",
     "output_type": "stream",
     "text": [
      "Training Steps:  35%|███▌      | 351/1000 [01:04<01:57,  5.50it/s, Loss=62.4123, Reward=0.6765]"
     ]
    },
    {
     "name": "stdout",
     "output_type": "stream",
     "text": [
      "\n",
      "Steps 341-350: Avg Loss: 39.2984, Avg Time Reward: 0.3941\n"
     ]
    },
    {
     "name": "stderr",
     "output_type": "stream",
     "text": [
      "Training Steps:  36%|███▌      | 361/1000 [01:06<01:57,  5.44it/s, Loss=36.1821, Reward=0.3549]"
     ]
    },
    {
     "name": "stdout",
     "output_type": "stream",
     "text": [
      "\n",
      "Steps 351-360: Avg Loss: 46.2652, Avg Time Reward: 0.4739\n"
     ]
    },
    {
     "name": "stderr",
     "output_type": "stream",
     "text": [
      "Training Steps:  37%|███▋      | 371/1000 [01:07<01:55,  5.43it/s, Loss=45.2686, Reward=0.3935]"
     ]
    },
    {
     "name": "stdout",
     "output_type": "stream",
     "text": [
      "\n",
      "Steps 361-370: Avg Loss: 36.2293, Avg Time Reward: 0.3496\n"
     ]
    },
    {
     "name": "stderr",
     "output_type": "stream",
     "text": [
      "Training Steps:  38%|███▊      | 381/1000 [01:09<01:52,  5.50it/s, Loss=19.6453, Reward=0.1649]"
     ]
    },
    {
     "name": "stdout",
     "output_type": "stream",
     "text": [
      "\n",
      "Steps 371-380: Avg Loss: 42.2081, Avg Time Reward: 0.4000\n"
     ]
    },
    {
     "name": "stderr",
     "output_type": "stream",
     "text": [
      "Training Steps:  39%|███▉      | 391/1000 [01:11<01:50,  5.49it/s, Loss=38.4208, Reward=0.4038]"
     ]
    },
    {
     "name": "stdout",
     "output_type": "stream",
     "text": [
      "\n",
      "Steps 381-390: Avg Loss: 42.9763, Avg Time Reward: 0.4125\n"
     ]
    },
    {
     "name": "stderr",
     "output_type": "stream",
     "text": [
      "Training Steps:  40%|████      | 401/1000 [01:13<01:49,  5.45it/s, Loss=35.4465, Reward=0.3302]"
     ]
    },
    {
     "name": "stdout",
     "output_type": "stream",
     "text": [
      "\n",
      "Steps 391-400: Avg Loss: 44.9115, Avg Time Reward: 0.4760\n"
     ]
    },
    {
     "name": "stderr",
     "output_type": "stream",
     "text": [
      "Training Steps:  41%|████      | 411/1000 [01:15<01:48,  5.44it/s, Loss=33.1080, Reward=0.4087]"
     ]
    },
    {
     "name": "stdout",
     "output_type": "stream",
     "text": [
      "\n",
      "Steps 401-410: Avg Loss: 44.0662, Avg Time Reward: 0.5138\n"
     ]
    },
    {
     "name": "stderr",
     "output_type": "stream",
     "text": [
      "Training Steps:  42%|████▏     | 421/1000 [01:17<01:46,  5.46it/s, Loss=52.0625, Reward=0.6747]"
     ]
    },
    {
     "name": "stdout",
     "output_type": "stream",
     "text": [
      "\n",
      "Steps 411-420: Avg Loss: 36.9673, Avg Time Reward: 0.4543\n"
     ]
    },
    {
     "name": "stderr",
     "output_type": "stream",
     "text": [
      "Training Steps:  43%|████▎     | 431/1000 [01:18<01:44,  5.43it/s, Loss=25.5983, Reward=0.3511]"
     ]
    },
    {
     "name": "stdout",
     "output_type": "stream",
     "text": [
      "\n",
      "Steps 421-430: Avg Loss: 44.9399, Avg Time Reward: 0.5622\n"
     ]
    },
    {
     "name": "stderr",
     "output_type": "stream",
     "text": [
      "Training Steps:  44%|████▍     | 441/1000 [01:20<01:42,  5.47it/s, Loss=57.4407, Reward=0.6541]"
     ]
    },
    {
     "name": "stdout",
     "output_type": "stream",
     "text": [
      "\n",
      "Steps 431-440: Avg Loss: 46.8688, Avg Time Reward: 0.5707\n"
     ]
    },
    {
     "name": "stderr",
     "output_type": "stream",
     "text": [
      "Training Steps:  45%|████▌     | 451/1000 [01:22<01:39,  5.52it/s, Loss=54.5760, Reward=0.7621]"
     ]
    },
    {
     "name": "stdout",
     "output_type": "stream",
     "text": [
      "\n",
      "Steps 441-450: Avg Loss: 50.0634, Avg Time Reward: 0.5655\n"
     ]
    },
    {
     "name": "stderr",
     "output_type": "stream",
     "text": [
      "Training Steps:  46%|████▌     | 461/1000 [01:24<01:37,  5.52it/s, Loss=48.5631, Reward=0.5020]"
     ]
    },
    {
     "name": "stdout",
     "output_type": "stream",
     "text": [
      "\n",
      "Steps 451-460: Avg Loss: 45.3425, Avg Time Reward: 0.5131\n"
     ]
    },
    {
     "name": "stderr",
     "output_type": "stream",
     "text": [
      "Training Steps:  47%|████▋     | 471/1000 [01:26<01:36,  5.50it/s, Loss=59.8397, Reward=0.6168]"
     ]
    },
    {
     "name": "stdout",
     "output_type": "stream",
     "text": [
      "\n",
      "Steps 461-470: Avg Loss: 47.4262, Avg Time Reward: 0.5359\n"
     ]
    },
    {
     "name": "stderr",
     "output_type": "stream",
     "text": [
      "Training Steps:  48%|████▊     | 481/1000 [01:28<01:35,  5.42it/s, Loss=50.3355, Reward=0.6739]"
     ]
    },
    {
     "name": "stdout",
     "output_type": "stream",
     "text": [
      "\n",
      "Steps 471-480: Avg Loss: 52.2229, Avg Time Reward: 0.6123\n"
     ]
    },
    {
     "name": "stderr",
     "output_type": "stream",
     "text": [
      "Training Steps:  49%|████▉     | 491/1000 [01:29<01:32,  5.50it/s, Loss=32.9670, Reward=0.4604]"
     ]
    },
    {
     "name": "stdout",
     "output_type": "stream",
     "text": [
      "\n",
      "Steps 481-490: Avg Loss: 40.4877, Avg Time Reward: 0.5329\n"
     ]
    },
    {
     "name": "stderr",
     "output_type": "stream",
     "text": [
      "Training Steps:  50%|█████     | 501/1000 [01:31<01:31,  5.42it/s, Loss=44.0329, Reward=0.6308]"
     ]
    },
    {
     "name": "stdout",
     "output_type": "stream",
     "text": [
      "\n",
      "Steps 491-500: Avg Loss: 40.5067, Avg Time Reward: 0.5766\n"
     ]
    },
    {
     "name": "stderr",
     "output_type": "stream",
     "text": [
      "Training Steps:  51%|█████     | 511/1000 [01:33<01:28,  5.51it/s, Loss=50.4181, Reward=0.6889]"
     ]
    },
    {
     "name": "stdout",
     "output_type": "stream",
     "text": [
      "\n",
      "Steps 501-510: Avg Loss: 37.8887, Avg Time Reward: 0.5735\n"
     ]
    },
    {
     "name": "stderr",
     "output_type": "stream",
     "text": [
      "Training Steps:  52%|█████▏    | 521/1000 [01:35<01:26,  5.54it/s, Loss=38.2626, Reward=0.5620]"
     ]
    },
    {
     "name": "stdout",
     "output_type": "stream",
     "text": [
      "\n",
      "Steps 511-520: Avg Loss: 40.7296, Avg Time Reward: 0.6143\n"
     ]
    },
    {
     "name": "stderr",
     "output_type": "stream",
     "text": [
      "Training Steps:  53%|█████▎    | 531/1000 [01:37<01:25,  5.51it/s, Loss=42.6321, Reward=0.6011]"
     ]
    },
    {
     "name": "stdout",
     "output_type": "stream",
     "text": [
      "\n",
      "Steps 521-530: Avg Loss: 37.9343, Avg Time Reward: 0.5742\n"
     ]
    },
    {
     "name": "stderr",
     "output_type": "stream",
     "text": [
      "Training Steps:  54%|█████▍    | 541/1000 [01:39<01:24,  5.44it/s, Loss=43.5365, Reward=0.5933]"
     ]
    },
    {
     "name": "stdout",
     "output_type": "stream",
     "text": [
      "\n",
      "Steps 531-540: Avg Loss: 43.2689, Avg Time Reward: 0.6139\n"
     ]
    },
    {
     "name": "stderr",
     "output_type": "stream",
     "text": [
      "Training Steps:  55%|█████▌    | 551/1000 [01:40<01:22,  5.46it/s, Loss=42.0042, Reward=0.6052]"
     ]
    },
    {
     "name": "stdout",
     "output_type": "stream",
     "text": [
      "\n",
      "Steps 541-550: Avg Loss: 45.3301, Avg Time Reward: 0.6003\n"
     ]
    },
    {
     "name": "stderr",
     "output_type": "stream",
     "text": [
      "Training Steps:  56%|█████▌    | 561/1000 [01:42<01:19,  5.52it/s, Loss=48.0934, Reward=0.5623]"
     ]
    },
    {
     "name": "stdout",
     "output_type": "stream",
     "text": [
      "\n",
      "Steps 551-560: Avg Loss: 48.1852, Avg Time Reward: 0.6352\n"
     ]
    },
    {
     "name": "stderr",
     "output_type": "stream",
     "text": [
      "Training Steps:  57%|█████▋    | 571/1000 [01:44<01:18,  5.48it/s, Loss=60.3743, Reward=0.6845]"
     ]
    },
    {
     "name": "stdout",
     "output_type": "stream",
     "text": [
      "\n",
      "Steps 561-570: Avg Loss: 51.9260, Avg Time Reward: 0.6178\n"
     ]
    },
    {
     "name": "stderr",
     "output_type": "stream",
     "text": [
      "Training Steps:  58%|█████▊    | 581/1000 [01:46<01:16,  5.45it/s, Loss=53.0157, Reward=0.6312]"
     ]
    },
    {
     "name": "stdout",
     "output_type": "stream",
     "text": [
      "\n",
      "Steps 571-580: Avg Loss: 53.7403, Avg Time Reward: 0.6150\n"
     ]
    },
    {
     "name": "stderr",
     "output_type": "stream",
     "text": [
      "Training Steps:  59%|█████▉    | 591/1000 [01:48<01:15,  5.45it/s, Loss=49.7660, Reward=0.5460]"
     ]
    },
    {
     "name": "stdout",
     "output_type": "stream",
     "text": [
      "\n",
      "Steps 581-590: Avg Loss: 54.1113, Avg Time Reward: 0.5910\n"
     ]
    },
    {
     "name": "stderr",
     "output_type": "stream",
     "text": [
      "Training Steps:  60%|██████    | 601/1000 [01:49<01:12,  5.47it/s, Loss=50.2729, Reward=0.5896]"
     ]
    },
    {
     "name": "stdout",
     "output_type": "stream",
     "text": [
      "\n",
      "Steps 591-600: Avg Loss: 45.7476, Avg Time Reward: 0.5275\n"
     ]
    },
    {
     "name": "stderr",
     "output_type": "stream",
     "text": [
      "Training Steps:  61%|██████    | 611/1000 [01:51<01:12,  5.39it/s, Loss=55.3100, Reward=0.6997]"
     ]
    },
    {
     "name": "stdout",
     "output_type": "stream",
     "text": [
      "\n",
      "Steps 601-610: Avg Loss: 47.1961, Avg Time Reward: 0.5710\n"
     ]
    },
    {
     "name": "stderr",
     "output_type": "stream",
     "text": [
      "Training Steps:  62%|██████▏   | 621/1000 [01:53<01:09,  5.44it/s, Loss=52.6097, Reward=0.6084]"
     ]
    },
    {
     "name": "stdout",
     "output_type": "stream",
     "text": [
      "\n",
      "Steps 611-620: Avg Loss: 51.0638, Avg Time Reward: 0.6439\n"
     ]
    },
    {
     "name": "stderr",
     "output_type": "stream",
     "text": [
      "Training Steps:  63%|██████▎   | 631/1000 [01:55<01:07,  5.44it/s, Loss=68.4070, Reward=0.8047]"
     ]
    },
    {
     "name": "stdout",
     "output_type": "stream",
     "text": [
      "\n",
      "Steps 621-630: Avg Loss: 44.6053, Avg Time Reward: 0.5859\n"
     ]
    },
    {
     "name": "stderr",
     "output_type": "stream",
     "text": [
      "Training Steps:  64%|██████▍   | 641/1000 [01:57<01:06,  5.42it/s, Loss=49.1066, Reward=0.7136]"
     ]
    },
    {
     "name": "stdout",
     "output_type": "stream",
     "text": [
      "\n",
      "Steps 631-640: Avg Loss: 45.5850, Avg Time Reward: 0.6290\n"
     ]
    },
    {
     "name": "stderr",
     "output_type": "stream",
     "text": [
      "Training Steps:  65%|██████▌   | 651/1000 [01:59<01:04,  5.43it/s, Loss=31.1735, Reward=0.5235]"
     ]
    },
    {
     "name": "stdout",
     "output_type": "stream",
     "text": [
      "\n",
      "Steps 641-650: Avg Loss: 48.4155, Avg Time Reward: 0.6607\n"
     ]
    },
    {
     "name": "stderr",
     "output_type": "stream",
     "text": [
      "Training Steps:  66%|██████▌   | 661/1000 [02:01<01:02,  5.43it/s, Loss=65.2608, Reward=0.7667]"
     ]
    },
    {
     "name": "stdout",
     "output_type": "stream",
     "text": [
      "\n",
      "Steps 651-660: Avg Loss: 42.8193, Avg Time Reward: 0.6045\n"
     ]
    },
    {
     "name": "stderr",
     "output_type": "stream",
     "text": [
      "Training Steps:  67%|██████▋   | 671/1000 [02:02<01:01,  5.38it/s, Loss=48.0725, Reward=0.6231]"
     ]
    },
    {
     "name": "stdout",
     "output_type": "stream",
     "text": [
      "\n",
      "Steps 661-670: Avg Loss: 47.9819, Avg Time Reward: 0.6667\n"
     ]
    },
    {
     "name": "stderr",
     "output_type": "stream",
     "text": [
      "Training Steps:  68%|██████▊   | 681/1000 [02:04<00:58,  5.43it/s, Loss=43.6100, Reward=0.5466]"
     ]
    },
    {
     "name": "stdout",
     "output_type": "stream",
     "text": [
      "\n",
      "Steps 671-680: Avg Loss: 50.3376, Avg Time Reward: 0.6877\n"
     ]
    },
    {
     "name": "stderr",
     "output_type": "stream",
     "text": [
      "Training Steps:  69%|██████▉   | 691/1000 [02:06<00:57,  5.41it/s, Loss=60.4853, Reward=0.8892]"
     ]
    },
    {
     "name": "stdout",
     "output_type": "stream",
     "text": [
      "\n",
      "Steps 681-690: Avg Loss: 47.6495, Avg Time Reward: 0.6492\n"
     ]
    },
    {
     "name": "stderr",
     "output_type": "stream",
     "text": [
      "Training Steps:  70%|███████   | 701/1000 [02:08<00:55,  5.37it/s, Loss=38.1102, Reward=0.5230]"
     ]
    },
    {
     "name": "stdout",
     "output_type": "stream",
     "text": [
      "\n",
      "Steps 691-700: Avg Loss: 44.7457, Avg Time Reward: 0.6629\n"
     ]
    },
    {
     "name": "stderr",
     "output_type": "stream",
     "text": [
      "Training Steps:  71%|███████   | 711/1000 [02:10<00:52,  5.53it/s, Loss=48.7267, Reward=0.7774]"
     ]
    },
    {
     "name": "stdout",
     "output_type": "stream",
     "text": [
      "\n",
      "Steps 701-710: Avg Loss: 47.0664, Avg Time Reward: 0.7094\n"
     ]
    },
    {
     "name": "stderr",
     "output_type": "stream",
     "text": [
      "Training Steps:  72%|███████▏  | 721/1000 [02:12<00:51,  5.39it/s, Loss=39.7078, Reward=0.7415]"
     ]
    },
    {
     "name": "stdout",
     "output_type": "stream",
     "text": [
      "\n",
      "Steps 711-720: Avg Loss: 43.3692, Avg Time Reward: 0.7060\n"
     ]
    },
    {
     "name": "stderr",
     "output_type": "stream",
     "text": [
      "Training Steps:  73%|███████▎  | 731/1000 [02:13<00:50,  5.35it/s, Loss=35.2451, Reward=0.5967]"
     ]
    },
    {
     "name": "stdout",
     "output_type": "stream",
     "text": [
      "\n",
      "Steps 721-730: Avg Loss: 41.5652, Avg Time Reward: 0.7186\n"
     ]
    },
    {
     "name": "stderr",
     "output_type": "stream",
     "text": [
      "Training Steps:  74%|███████▍  | 741/1000 [02:15<00:48,  5.36it/s, Loss=44.2753, Reward=0.8059]"
     ]
    },
    {
     "name": "stdout",
     "output_type": "stream",
     "text": [
      "\n",
      "Steps 731-740: Avg Loss: 36.0947, Avg Time Reward: 0.6962\n"
     ]
    },
    {
     "name": "stderr",
     "output_type": "stream",
     "text": [
      "Training Steps:  75%|███████▌  | 751/1000 [02:17<00:45,  5.49it/s, Loss=28.3150, Reward=0.6826]"
     ]
    },
    {
     "name": "stdout",
     "output_type": "stream",
     "text": [
      "\n",
      "Steps 741-750: Avg Loss: 36.2510, Avg Time Reward: 0.7402\n"
     ]
    },
    {
     "name": "stderr",
     "output_type": "stream",
     "text": [
      "Training Steps:  76%|███████▌  | 761/1000 [02:19<00:43,  5.45it/s, Loss=25.9248, Reward=0.6138]"
     ]
    },
    {
     "name": "stdout",
     "output_type": "stream",
     "text": [
      "\n",
      "Steps 751-760: Avg Loss: 30.1138, Avg Time Reward: 0.6790\n"
     ]
    },
    {
     "name": "stderr",
     "output_type": "stream",
     "text": [
      "Training Steps:  77%|███████▋  | 771/1000 [02:21<00:42,  5.41it/s, Loss=38.4547, Reward=0.8564]"
     ]
    },
    {
     "name": "stdout",
     "output_type": "stream",
     "text": [
      "\n",
      "Steps 761-770: Avg Loss: 31.4335, Avg Time Reward: 0.6469\n"
     ]
    },
    {
     "name": "stderr",
     "output_type": "stream",
     "text": [
      "Training Steps:  78%|███████▊  | 781/1000 [02:23<00:39,  5.50it/s, Loss=32.7075, Reward=0.6838]"
     ]
    },
    {
     "name": "stdout",
     "output_type": "stream",
     "text": [
      "\n",
      "Steps 771-780: Avg Loss: 29.1059, Avg Time Reward: 0.6562\n"
     ]
    },
    {
     "name": "stderr",
     "output_type": "stream",
     "text": [
      "Training Steps:  79%|███████▉  | 791/1000 [02:24<00:38,  5.44it/s, Loss=28.7929, Reward=0.7625]"
     ]
    },
    {
     "name": "stdout",
     "output_type": "stream",
     "text": [
      "\n",
      "Steps 781-790: Avg Loss: 35.0039, Avg Time Reward: 0.7308\n"
     ]
    },
    {
     "name": "stderr",
     "output_type": "stream",
     "text": [
      "Training Steps:  80%|████████  | 801/1000 [02:26<00:36,  5.46it/s, Loss=36.9412, Reward=0.7332]"
     ]
    },
    {
     "name": "stdout",
     "output_type": "stream",
     "text": [
      "\n",
      "Steps 791-800: Avg Loss: 35.6963, Avg Time Reward: 0.7267\n"
     ]
    },
    {
     "name": "stderr",
     "output_type": "stream",
     "text": [
      "Training Steps:  81%|████████  | 811/1000 [02:28<00:34,  5.42it/s, Loss=40.1124, Reward=0.6988]"
     ]
    },
    {
     "name": "stdout",
     "output_type": "stream",
     "text": [
      "\n",
      "Steps 801-810: Avg Loss: 39.5328, Avg Time Reward: 0.7614\n"
     ]
    },
    {
     "name": "stderr",
     "output_type": "stream",
     "text": [
      "Training Steps:  82%|████████▏ | 821/1000 [02:30<00:32,  5.44it/s, Loss=46.4604, Reward=0.8184]"
     ]
    },
    {
     "name": "stdout",
     "output_type": "stream",
     "text": [
      "\n",
      "Steps 811-820: Avg Loss: 42.1397, Avg Time Reward: 0.7504\n"
     ]
    },
    {
     "name": "stderr",
     "output_type": "stream",
     "text": [
      "Training Steps:  83%|████████▎ | 831/1000 [02:32<00:31,  5.41it/s, Loss=47.1727, Reward=0.7948]"
     ]
    },
    {
     "name": "stdout",
     "output_type": "stream",
     "text": [
      "\n",
      "Steps 821-830: Avg Loss: 41.9257, Avg Time Reward: 0.7130\n"
     ]
    },
    {
     "name": "stderr",
     "output_type": "stream",
     "text": [
      "Training Steps:  84%|████████▍ | 841/1000 [02:34<00:29,  5.46it/s, Loss=32.5932, Reward=0.6903]"
     ]
    },
    {
     "name": "stdout",
     "output_type": "stream",
     "text": [
      "\n",
      "Steps 831-840: Avg Loss: 49.9393, Avg Time Reward: 0.8026\n"
     ]
    },
    {
     "name": "stderr",
     "output_type": "stream",
     "text": [
      "Training Steps:  85%|████████▌ | 851/1000 [02:35<00:27,  5.49it/s, Loss=35.6441, Reward=0.6467]"
     ]
    },
    {
     "name": "stdout",
     "output_type": "stream",
     "text": [
      "\n",
      "Steps 841-850: Avg Loss: 41.8567, Avg Time Reward: 0.7319\n"
     ]
    },
    {
     "name": "stderr",
     "output_type": "stream",
     "text": [
      "Training Steps:  86%|████████▌ | 861/1000 [02:37<00:25,  5.49it/s, Loss=41.1672, Reward=0.6973]"
     ]
    },
    {
     "name": "stdout",
     "output_type": "stream",
     "text": [
      "\n",
      "Steps 851-860: Avg Loss: 40.3810, Avg Time Reward: 0.7620\n"
     ]
    },
    {
     "name": "stderr",
     "output_type": "stream",
     "text": [
      "Training Steps:  87%|████████▋ | 871/1000 [02:39<00:23,  5.46it/s, Loss=48.3697, Reward=0.7961]"
     ]
    },
    {
     "name": "stdout",
     "output_type": "stream",
     "text": [
      "\n",
      "Steps 861-870: Avg Loss: 36.7199, Avg Time Reward: 0.7168\n"
     ]
    },
    {
     "name": "stderr",
     "output_type": "stream",
     "text": [
      "Training Steps:  88%|████████▊ | 881/1000 [02:41<00:21,  5.48it/s, Loss=39.8414, Reward=0.7676]"
     ]
    },
    {
     "name": "stdout",
     "output_type": "stream",
     "text": [
      "\n",
      "Steps 871-880: Avg Loss: 39.6128, Avg Time Reward: 0.7047\n"
     ]
    },
    {
     "name": "stderr",
     "output_type": "stream",
     "text": [
      "Training Steps:  89%|████████▉ | 891/1000 [02:43<00:19,  5.49it/s, Loss=40.1263, Reward=0.7031]"
     ]
    },
    {
     "name": "stdout",
     "output_type": "stream",
     "text": [
      "\n",
      "Steps 881-890: Avg Loss: 43.3281, Avg Time Reward: 0.7577\n"
     ]
    },
    {
     "name": "stderr",
     "output_type": "stream",
     "text": [
      "Training Steps:  90%|█████████ | 901/1000 [02:45<00:17,  5.52it/s, Loss=44.1097, Reward=0.7208]"
     ]
    },
    {
     "name": "stdout",
     "output_type": "stream",
     "text": [
      "\n",
      "Steps 891-900: Avg Loss: 40.3379, Avg Time Reward: 0.7182\n"
     ]
    },
    {
     "name": "stderr",
     "output_type": "stream",
     "text": [
      "Training Steps:  91%|█████████ | 911/1000 [02:46<00:16,  5.44it/s, Loss=44.6689, Reward=0.7289]"
     ]
    },
    {
     "name": "stdout",
     "output_type": "stream",
     "text": [
      "\n",
      "Steps 901-910: Avg Loss: 38.9881, Avg Time Reward: 0.7138\n"
     ]
    },
    {
     "name": "stderr",
     "output_type": "stream",
     "text": [
      "Training Steps:  92%|█████████▏| 921/1000 [02:48<00:14,  5.46it/s, Loss=51.8915, Reward=0.9301]"
     ]
    },
    {
     "name": "stdout",
     "output_type": "stream",
     "text": [
      "\n",
      "Steps 911-920: Avg Loss: 38.6168, Avg Time Reward: 0.7095\n"
     ]
    },
    {
     "name": "stderr",
     "output_type": "stream",
     "text": [
      "Training Steps:  93%|█████████▎| 931/1000 [02:50<00:12,  5.44it/s, Loss=47.5995, Reward=0.8274]"
     ]
    },
    {
     "name": "stdout",
     "output_type": "stream",
     "text": [
      "\n",
      "Steps 921-930: Avg Loss: 42.4244, Avg Time Reward: 0.8011\n"
     ]
    },
    {
     "name": "stderr",
     "output_type": "stream",
     "text": [
      "Training Steps:  94%|█████████▍| 941/1000 [02:52<00:10,  5.44it/s, Loss=44.2892, Reward=0.8840]"
     ]
    },
    {
     "name": "stdout",
     "output_type": "stream",
     "text": [
      "\n",
      "Steps 931-940: Avg Loss: 44.1322, Avg Time Reward: 0.8302\n"
     ]
    },
    {
     "name": "stderr",
     "output_type": "stream",
     "text": [
      "Training Steps:  95%|█████████▌| 951/1000 [02:54<00:08,  5.45it/s, Loss=37.6334, Reward=0.7874]"
     ]
    },
    {
     "name": "stdout",
     "output_type": "stream",
     "text": [
      "\n",
      "Steps 941-950: Avg Loss: 42.2724, Avg Time Reward: 0.7954\n"
     ]
    },
    {
     "name": "stderr",
     "output_type": "stream",
     "text": [
      "Training Steps:  96%|█████████▌| 961/1000 [02:56<00:07,  5.45it/s, Loss=28.7927, Reward=0.5659]"
     ]
    },
    {
     "name": "stdout",
     "output_type": "stream",
     "text": [
      "\n",
      "Steps 951-960: Avg Loss: 43.0472, Avg Time Reward: 0.8133\n"
     ]
    },
    {
     "name": "stderr",
     "output_type": "stream",
     "text": [
      "Training Steps:  97%|█████████▋| 971/1000 [02:58<00:05,  5.41it/s, Loss=37.4556, Reward=0.8572]"
     ]
    },
    {
     "name": "stdout",
     "output_type": "stream",
     "text": [
      "\n",
      "Steps 961-970: Avg Loss: 39.8779, Avg Time Reward: 0.7954\n"
     ]
    },
    {
     "name": "stderr",
     "output_type": "stream",
     "text": [
      "Training Steps:  98%|█████████▊| 981/1000 [02:59<00:03,  5.45it/s, Loss=40.9687, Reward=0.9261]"
     ]
    },
    {
     "name": "stdout",
     "output_type": "stream",
     "text": [
      "\n",
      "Steps 971-980: Avg Loss: 37.4306, Avg Time Reward: 0.7937\n"
     ]
    },
    {
     "name": "stderr",
     "output_type": "stream",
     "text": [
      "Training Steps:  99%|█████████▉| 991/1000 [03:01<00:01,  5.49it/s, Loss=35.2772, Reward=0.8284]"
     ]
    },
    {
     "name": "stdout",
     "output_type": "stream",
     "text": [
      "\n",
      "Steps 981-990: Avg Loss: 38.3451, Avg Time Reward: 0.8257\n"
     ]
    },
    {
     "name": "stderr",
     "output_type": "stream",
     "text": [
      "Training Steps: 100%|██████████| 1000/1000 [03:03<00:00,  5.45it/s, Loss=34.9468, Reward=0.9554]"
     ]
    },
    {
     "name": "stdout",
     "output_type": "stream",
     "text": [
      "\n",
      "Steps 991-1000: Avg Loss: 38.7945, Avg Time Reward: 0.8865\n",
      "\n",
      "--- REINFORCE Training Finished ---\n"
     ]
    },
    {
     "name": "stderr",
     "output_type": "stream",
     "text": [
      "\n"
     ]
    }
   ],
   "source": [
    "import torch\n",
    "import torch.nn.functional as F\n",
    "import numpy as np\n",
    "from tqdm import tqdm\n",
    "import math # Ensure math is imported if calculate_time_reward needs it externally\n",
    "\n",
    "# Assume calculate_time_reward function is defined as in the previous example\n",
    "# Assume tokenizer, model, config, generation_kwargs, optimizer, dataset are initialized\n",
    "\n",
    "# Function to calculate actual length before EOS/PAD (needed for loss masking)\n",
    "def get_actual_generated_length(generated_ids, tokenizer):\n",
    "    \"\"\"Finds the length of the sequence before the first EOS or PAD token.\"\"\"\n",
    "    eos_indices = torch.where((generated_ids == tokenizer.eos_token_id) | (generated_ids == tokenizer.pad_token_id))[0]\n",
    "    if len(eos_indices) > 0:\n",
    "        return eos_indices[0].item()\n",
    "    else:\n",
    "        # No EOS/PAD found, use the full length of the provided tensor slice\n",
    "        return len(generated_ids)\n",
    "\n",
    "print(\"\\n--- Starting REINFORCE Training (Time Reward Focused) ---\")\n",
    "model.train() # Set model to training mode\n",
    "\n",
    "# Use tqdm for a progress bar\n",
    "pbar = tqdm(range(config[\"steps\"]), desc=\"Training Steps\")\n",
    "\n",
    "# Variables for overall logging (if needed)\n",
    "all_rewards = []\n",
    "step_losses = []\n",
    "step_mean_rewards = []\n",
    "\n",
    "# Variables for periodic logging\n",
    "log_interval = 10 # How often to print average logs\n",
    "running_reward_sum = 0\n",
    "running_loss_sum = 0\n",
    "\n",
    "for step in pbar:\n",
    "    # --- Sample Trajectories (Generate Sequences - NO GRAD) ---\n",
    "    # Get a batch of prompts\n",
    "    batch_indices = np.random.choice(len(dataset), config[\"batch_size\"], replace=False)\n",
    "    batch_prompts = [dataset[int(i)][\"query\"] for i in batch_indices]\n",
    "\n",
    "    # Tokenize prompts, padding on the left for decoder-only models\n",
    "    tokenizer.padding_side = \"left\" # Important for batch generation\n",
    "    inputs = tokenizer(batch_prompts, return_tensors=\"pt\", padding=True, truncation=True).to(model.device)\n",
    "    input_ids = inputs[\"input_ids\"]\n",
    "    attention_mask = inputs[\"attention_mask\"] # Needed for generation with padding\n",
    "    prompt_len = input_ids.shape[1]\n",
    "\n",
    "    # Generate sequences WITHOUT gradient calculation for efficiency\n",
    "    with torch.no_grad():\n",
    "        gen_kwargs = generation_kwargs.copy()\n",
    "        gen_kwargs[\"output_scores\"] = False\n",
    "        gen_kwargs[\"return_dict_in_generate\"] = True\n",
    "        gen_kwargs[\"pad_token_id\"] = tokenizer.pad_token_id\n",
    "\n",
    "        outputs_gen = model.generate(\n",
    "            input_ids=input_ids,\n",
    "            attention_mask=attention_mask,\n",
    "            **gen_kwargs\n",
    "        )\n",
    "\n",
    "    # sequences shape: (batch_size, total_length including prompt and padding)\n",
    "    sequences = outputs_gen.sequences\n",
    "\n",
    "    # --- Calculate Rewards & Actual Lengths ---\n",
    "    batch_rewards = []\n",
    "    batch_actual_lengths = [] # Store the actual length *of the generated part* for loss masking\n",
    "    # Get only the generated token IDs (excluding prompt)\n",
    "    total_length = sequences.shape[1]\n",
    "    generated_ids_only = sequences[:, prompt_len:] # Shape: (batch_size, generated_part_length)\n",
    "\n",
    "    for i in range(config[\"batch_size\"]):\n",
    "        current_generated_ids = generated_ids_only[i]\n",
    "\n",
    "        # Calculate reward using the time-based function\n",
    "        # We only need the reward value here, ignore the extracted time string for the loss\n",
    "        reward_value, _ = calculate_time_reward(\n",
    "            generated_ids=current_generated_ids,\n",
    "            tokenizer=tokenizer,\n",
    "            sharpness=config.get(\"reward_sharpness\", 0.05) # Use sharpness from config\n",
    "        )\n",
    "        batch_rewards.append(reward_value)\n",
    "\n",
    "        # Calculate the actual length *before* EOS/PAD for loss masking\n",
    "        # This is separate from the reward calculation now\n",
    "        actual_len = get_actual_generated_length(current_generated_ids, tokenizer)\n",
    "        batch_actual_lengths.append(actual_len)\n",
    "\n",
    "\n",
    "    rewards_tensor = torch.tensor(batch_rewards, device=model.device, dtype=torch.float32)\n",
    "\n",
    "    # --- Calculate Log Probabilities of Actions (WITH GRAD) ---\n",
    "    # Now, perform a forward pass WITH gradient calculation to get log probs\n",
    "    full_attention_mask = (sequences != tokenizer.pad_token_id).long().to(model.device)\n",
    "    outputs_loss = model(input_ids=sequences, attention_mask=full_attention_mask)\n",
    "    logits = outputs_loss.logits\n",
    "\n",
    "    # Get logits corresponding to the generated tokens\n",
    "    logits_generated = logits[:, prompt_len-1:-1, :]\n",
    "\n",
    "    # Ensure dimensions match generated_ids_only before gather\n",
    "    num_generated_tokens = generated_ids_only.shape[1]\n",
    "    logits_generated = logits_generated[:, :num_generated_tokens, :] # Adjust length dim if needed\n",
    "\n",
    "    # Calculate log probabilities\n",
    "    log_probs = F.log_softmax(logits_generated, dim=-1)\n",
    "\n",
    "    # Get the log probabilities of the actually generated tokens\n",
    "    gathered_log_probs = torch.gather(log_probs, 2, generated_ids_only.unsqueeze(-1)).squeeze(-1)\n",
    "\n",
    "    # --- Calculate Policy Gradient Loss ---\n",
    "    # Mask log probs: only consider tokens up to the *actual generated length* for each sequence\n",
    "    total_log_prob_trajectory = torch.zeros(config[\"batch_size\"], device=model.device)\n",
    "    for i in range(config[\"batch_size\"]):\n",
    "        length = batch_actual_lengths[i] # Use the calculated *actual* generated length\n",
    "        if length > 0: # Only sum if something was generated before EOS/PAD\n",
    "            # Sum log probs for the actual trajectory tokens up to length\n",
    "            total_log_prob_trajectory[i] = gathered_log_probs[i, :length].sum()\n",
    "\n",
    "    # REINFORCE loss: -E[R * log P(trajectory)] = -mean(R * sum(log P(action|state)))\n",
    "    loss = -torch.mean(total_log_prob_trajectory * rewards_tensor)\n",
    "\n",
    "    # --- Backpropagation and Optimization ---\n",
    "    optimizer.zero_grad()\n",
    "    loss.backward()\n",
    "    # Optional: Gradient Clipping\n",
    "    # torch.nn.utils.clip_grad_norm_(model.parameters(), config.get(\"max_grad_norm\", 1.0))\n",
    "    optimizer.step()\n",
    "\n",
    "    # --- Logging ---\n",
    "    current_mean_reward = rewards_tensor.mean().item()\n",
    "    current_loss = loss.item()\n",
    "\n",
    "    # Append data to overall logging lists (optional)\n",
    "    all_rewards.extend(batch_rewards)\n",
    "    step_losses.append(current_loss)\n",
    "    step_mean_rewards.append(current_mean_reward)\n",
    "\n",
    "    # Update progress bar - removed \"Matches\"\n",
    "    pbar.set_postfix({\n",
    "        \"Loss\": f\"{current_loss:.4f}\",\n",
    "        \"Reward\": f\"{current_mean_reward:.4f}\"\n",
    "    })\n",
    "\n",
    "    # Accumulate for periodic logging\n",
    "    running_reward_sum += current_mean_reward\n",
    "    running_loss_sum += current_loss\n",
    "\n",
    "    # Print average logs periodically\n",
    "    if (step + 1) % log_interval == 0:\n",
    "        avg_reward = running_reward_sum / log_interval\n",
    "        avg_loss = running_loss_sum / log_interval\n",
    "        # Log the average reward based on the time proximity metric\n",
    "        print(f\"\\nSteps {step+1-log_interval+1}-{step+1}: Avg Loss: {avg_loss:.4f}, Avg Time Reward: {avg_reward:.4f}\")\n",
    "        running_reward_sum = 0 # Reset sums\n",
    "        running_loss_sum = 0\n",
    "\n",
    "print(\"\\n--- REINFORCE Training Finished ---\")"
   ]
  },
  {
   "cell_type": "code",
   "execution_count": 24,
   "metadata": {},
   "outputs": [
    {
     "name": "stdout",
     "output_type": "stream",
     "text": [
      "\n",
      "--- Analyzing Training Results ---\n"
     ]
    },
    {
     "data": {
      "image/png": "[encoded data removed]",
      "text/plain": [
       "<Figure size 1200x500 with 2 Axes>"
      ]
     },
     "metadata": {},
     "output_type": "display_data"
    }
   ],
   "source": [
    "print(\"\\n--- Analyzing Training Results ---\")\n",
    "\n",
    "# --- Plot Loss and Mean Reward Over Steps ---\n",
    "plt.figure(figsize=(12, 5))\n",
    "\n",
    "plt.subplot(1, 2, 1)\n",
    "plt.plot(step_losses)\n",
    "plt.title(\"Step Loss\")\n",
    "plt.xlabel(\"Step\")\n",
    "plt.ylabel(\"Loss\")\n",
    "plt.grid(True)\n",
    "\n",
    "plt.subplot(1, 2, 2)\n",
    "plt.plot(step_mean_rewards)\n",
    "plt.title(\"Step Mean Time Reward\") # Updated Title\n",
    "plt.xlabel(\"Step\")\n",
    "plt.ylabel(\"Mean Reward (Time Proximity)\") # Updated Label\n",
    "plt.ylim(0, 1.1) # Set ylim for reward typically 0-1\n",
    "plt.grid(True)\n",
    "\n",
    "plt.tight_layout()\n",
    "plt.show()\n",
    "\n",
    "# --- Plot Histogram of Achieved Rewards ---\n",
    "# This replaces the length histogram and the sparse reward bar chart\n",
    "# plt.figure(figsize=(7, 5)) # Adjusted size for single plot\n",
    "\n",
    "# # Use a histogram for the dense time rewards\n",
    "# # Increase bins for better resolution of continuous reward values\n",
    "# plt.hist(all_rewards, bins=25, range=(0, 1), density=True, alpha=0.75)\n",
    "# plt.title(\"Distribution of Time Rewards (All Steps)\") # Updated Title\n",
    "# plt.xlabel(\"Time Proximity Reward\") # Updated Label\n",
    "# plt.ylabel(\"Density\")\n",
    "# plt.grid(axis='y')\n",
    "\n",
    "# plt.tight_layout()\n",
    "# plt.show()"
   ]
  },
  {
   "cell_type": "code",
   "execution_count": 25,
   "metadata": {},
   "outputs": [
    {
     "name": "stdout",
     "output_type": "stream",
     "text": [
      "\n",
      "--- Generating Example Sequence Post-Training ---\n",
      "Prompt: '<|startoftext|> What is the time in hh:mm?'\n",
      "Generated Text (raw):  1937:38. 19:39 19: 31 19: 19: 19 19 1 19:\n",
      "Generated Text (cleaned):  1937:38. 19:39 19: 31 19: 19: 19 19 1 19:\n",
      "--------------------\n",
      "Current Time (at eval): 19:40:35\n",
      "Extracted Time from Generation: 19:39\n",
      "Calculated Time Reward for this Generation: 0.9239\n",
      "--------------------\n"
     ]
    }
   ],
   "source": [
    "# --- Example Generation After Training ---\n",
    "print(\"\\n--- Generating Example Sequence Post-Training ---\")\n",
    "model.eval() # Set model to evaluation mode\n",
    "# Using a prompt that might encourage time generation\n",
    "prompt_text = \"<|startoftext|> What is the time in hh:mm?\"\n",
    "tokenizer.padding_side = \"left\" # Ensure consistency\n",
    "inputs = tokenizer(prompt_text, return_tensors=\"pt\").to(model.device)\n",
    "input_ids = inputs[\"input_ids\"]\n",
    "attention_mask = inputs[\"attention_mask\"]\n",
    "\n",
    "# Use the trained model for generation\n",
    "trained_generation_kwargs = generation_kwargs.copy()\n",
    "trained_generation_kwargs[\"max_new_tokens\"] = 20 # Generate a short sequence\n",
    "trained_generation_kwargs[\"output_scores\"] = False\n",
    "trained_generation_kwargs[\"return_dict_in_generate\"] = False\n",
    "trained_generation_kwargs[\"pad_token_id\"] = tokenizer.pad_token_id # Ensure pad token is set\n",
    "\n",
    "with torch.no_grad():\n",
    "    output_sequences = model.generate(\n",
    "        input_ids=input_ids,\n",
    "        attention_mask=attention_mask,\n",
    "        **trained_generation_kwargs\n",
    "    )\n",
    "\n",
    "generated_tokens = output_sequences[0] # Get the first sequence in the batch\n",
    "prompt_len = input_ids.shape[1]\n",
    "generated_part_tokens = generated_tokens[prompt_len:]\n",
    "\n",
    "# Decode for printing\n",
    "generated_part_text = tokenizer.decode(generated_part_tokens, skip_special_tokens=False)\n",
    "cleaned_text = generated_part_text.replace(tokenizer.eos_token, '<EOS>').replace(tokenizer.pad_token, '<PAD>')\n",
    "\n",
    "# Calculate the reward for this specific generated sequence\n",
    "# Ensure generated_part_tokens is on CPU for the reward function if model was on GPU\n",
    "final_reward, final_extracted_time = calculate_time_reward(\n",
    "    generated_ids=generated_part_tokens.to('cpu'), # Move to CPU if necessary\n",
    "    tokenizer=tokenizer,\n",
    "    sharpness=config.get(\"reward_sharpness\", 0.05)\n",
    ")\n",
    "\n",
    "# Get the current time *now* for comparison context\n",
    "current_eval_time_dt = datetime.datetime.now(tz)\n",
    "current_eval_time_str = current_eval_time_dt.strftime(\"%H:%M:%S\") # e.g., 20:23:08\n",
    "\n",
    "# Print results for the example generation\n",
    "print(f\"Prompt: '{prompt_text}'\")\n",
    "print(f\"Generated Text (raw): {generated_part_text}\")\n",
    "print(f\"Generated Text (cleaned): {cleaned_text}\")\n",
    "print(\"-\" * 20)\n",
    "print(f\"Current Time (at eval): {current_eval_time_str}\")\n",
    "print(f\"Extracted Time from Generation: {final_extracted_time if final_extracted_time else 'None Found'}\")\n",
    "print(f\"Calculated Time Reward for this Generation: {final_reward:.4f}\")\n",
    "print(\"-\" * 20)"
   ]
  },
  {
   "cell_type": "code",
   "execution_count": null,
   "metadata": {},
   "outputs": [],
   "source": []
  }
 ],
 "metadata": {
  "language_info": {
   "name": "python"
  }
 },
 "nbformat": 4,
 "nbformat_minor": 2
}
